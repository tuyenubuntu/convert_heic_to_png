{
  "nbformat": 4,
  "nbformat_minor": 0,
  "metadata": {
    "colab": {
      "provenance": []
    },
    "kernelspec": {
      "name": "python3",
      "display_name": "Python 3"
    },
    "language_info": {
      "name": "python"
    }
  },
  "cells": [
    {
      "cell_type": "code",
      "source": [
        "#command conect to your google Drive\n",
        "from google.colab import drive\n",
        "drive.mount('/content/drive')"
      ],
      "metadata": {
        "id": "76wVkChXqM0B"
      },
      "execution_count": null,
      "outputs": []
    },
    {
      "cell_type": "code",
      "source": [
        "#go to folder work\n",
        "%cd /content/drive/MyDrive/HcP/folder_1                #input your path"
      ],
      "metadata": {
        "id": "rveAZfrmob3h"
      },
      "execution_count": null,
      "outputs": []
    },
    {
      "cell_type": "code",
      "source": [
        "#install lib for program convert\n",
        "%pip install heic2png"
      ],
      "metadata": {
        "id": "-VYl1RfopPgG"
      },
      "execution_count": null,
      "outputs": []
    },
    {
      "cell_type": "code",
      "source": [
        "#Funct for covert heic to png\n",
        "import os\n",
        "from os import path\n",
        "import glob\n",
        "import shutil\n",
        "from PIL import Image\n",
        "from heic2png import HEIC2PNG\n",
        "path =''\n",
        "#os.listdir(os.path.expanduser('*.heic'))\n",
        "lst = glob.glob(os.path.join(path,'*heic'))\n",
        "print (type(lst))\n",
        "for i in lst:\n",
        "  if os.path.exists('Convert') == False:\n",
        "    name_folder = 'Convert'\n",
        "    os.mkdir(name_folder)\n",
        "  else:\n",
        "    pass\n",
        "  try:\n",
        "    shutil.copy(os.path.join(path,i),os.path.join(path,f'{name_folder}/{i}'))\n",
        "    #print(\"File copied successfully.\")\n",
        "    img = HEIC2PNG(os.path.join(path,f'{name_folder}/{i}'), quality = 90)\n",
        "    img.save()\n",
        "    os.remove(os.path.join(path,f'{name_folder}/{i}'))\n",
        "    print(f\"File {i} converted successfully to *.png.\")\n",
        "  # If source and destination are same\n",
        "  except shutil.SameFileError:\n",
        "    print(\"Source and destination represents the same file.\")\n",
        "  # If there is any permission issue\n",
        "  except PermissionError:\n",
        "    print(\"Permission denied.\")\n",
        "  # For other errors\n",
        "  except:\n",
        "    print(\"Error occurred while copying file.\")\n",
        "\n",
        "print ('Finish ALL!')\n",
        "\n",
        "\n",
        "lst2 = glob.glob(os.path.join(path,'*jpg'))\n",
        "for i in lst2:\n",
        "  shutil.copy(os.path.join(path,i),os.path.join(path,f'{name_folder}/{i}'))\n",
        "len(lst2 + lst)\n",
        "print ('Done')"
      ],
      "metadata": {
        "id": "FfOMhYIVpMWH"
      },
      "execution_count": null,
      "outputs": []
    }
  ]
}